{
 "cells": [
  {
   "cell_type": "code",
   "execution_count": 35,
   "metadata": {},
   "outputs": [],
   "source": [
    "template_for_generating_description_search = \"\"\"You are a help desk agent at a logistics company. \\\n",
    "A user has given you a question regarding tariffs of a certain item or a range of items. \\\n",
    "You need to retrieve related documents required to answer the question, but these documents must be retrieved from a vectorstore. \\\n",
    "The document has a json structure as shown in the following example delimited by double backticks: \\\n",
    "``\"Prefix\": \"Plates, sheets, strip and foil :\", \"HS Hdg Name\": \"Lead plates, sheets, strip and foil; lead\\npowders and flakes.\", \"HS Hdg\": \"78.04\", \"HS Code\": \"7804.11.00N\", \"Description\": \"Sheets, strip and foil of a thickness (excluding\\nany backing) exceeding 0.2 mm\", \"Unit\": \"kg\", \"ICL/SLSI\": \"\", \"Preferential Duty_AP\": \"\", \"Preferential Duty_AD\": \"\", \"Preferential Duty_BN\": \"\", \"Preferential Duty_GT\": \"\", \"Preferential Duty_IN\": \"Free\", \"Preferential Duty_PK\": \"Free\", \"Preferential Duty_SA\": \"\", \"Preferential Duty_SF\": \"Free\", \"Preferential Duty_SD\": \"Free\", \"Preferential Duty_SG\": \"Free\", \"Gen Duty\": \"Free\", \"VAT\": \"18%\", \"PAL_Gen\": \"10%\", \"PAL_SG\": \"6%\", \"Cess_GEN\": \"\", \"Excise SPD\": \"\", \"SSCL\": \"2.5%\", \"SCL\": \"\", \"SC Code\": \"\", \"Cess_SG\": \"\"`` \\\n",
    "However note that the documents stored in the vectorstore only contains textual fields- i.e. the fields Prefix, HS Hdg Name and Description. \\\n",
    "Generate the shortest but most precise query possible to pass into a similarity search in order to retrieve the documents. \\\n",
    "The question is as follows (delimited by triple backticks): ```{question}```\n",
    "Tell me the answer only, no need to offer any explanations.\n",
    "\"\"\"\n",
    "\n",
    "question1 = \"What is the preferential_duty_SF for a tractor.\"\n",
    "question2 = \"What is the cheapest import category I can find for a vehicle to carry 7 people.\"\n",
    "question3 = \"Get me the VAT of the electric vehicle catergories.\""
   ]
  },
  {
   "cell_type": "code",
   "execution_count": 36,
   "metadata": {},
   "outputs": [],
   "source": [
    "from langchain.prompts import ChatPromptTemplate\n",
    "\n",
    "prompt_template = ChatPromptTemplate.from_template(template_for_generating_description_search)\n",
    "\n",
    "humanMessage_and_promtTemplate = prompt_template.format_messages(question=question3)"
   ]
  },
  {
   "cell_type": "code",
   "execution_count": 37,
   "metadata": {},
   "outputs": [],
   "source": [
    "from langchain.chat_models import ChatOpenAI\n",
    "\n",
    "chat = ChatOpenAI(temperature=0.0, model=\"gpt-4o-mini\")"
   ]
  },
  {
   "cell_type": "code",
   "execution_count": 38,
   "metadata": {},
   "outputs": [],
   "source": [
    "response_humaizedQueryForDescSearch = chat(humanMessage_and_promtTemplate)"
   ]
  },
  {
   "cell_type": "code",
   "execution_count": 39,
   "metadata": {},
   "outputs": [
    {
     "data": {
      "text/plain": [
       "langchain_core.messages.ai.AIMessage"
      ]
     },
     "execution_count": 39,
     "metadata": {},
     "output_type": "execute_result"
    }
   ],
   "source": [
    "type(response_humaizedQueryForDescSearch)"
   ]
  },
  {
   "cell_type": "code",
   "execution_count": 40,
   "metadata": {},
   "outputs": [
    {
     "name": "stdout",
     "output_type": "stream",
     "text": [
      "\"electric vehicle\"\n"
     ]
    }
   ],
   "source": [
    "print(response_humaizedQueryForDescSearch.content)"
   ]
  }
 ],
 "metadata": {
  "kernelspec": {
   "display_name": "Python 3",
   "language": "python",
   "name": "python3"
  },
  "language_info": {
   "codemirror_mode": {
    "name": "ipython",
    "version": 3
   },
   "file_extension": ".py",
   "mimetype": "text/x-python",
   "name": "python",
   "nbconvert_exporter": "python",
   "pygments_lexer": "ipython3",
   "version": "3.11.9"
  }
 },
 "nbformat": 4,
 "nbformat_minor": 2
}
