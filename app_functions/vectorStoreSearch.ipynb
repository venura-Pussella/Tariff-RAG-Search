{
 "cells": [
  {
   "cell_type": "code",
   "execution_count": 1,
   "metadata": {},
   "outputs": [],
   "source": [
    "import os\n",
    "import chromadb\n",
    "\n",
    "import openai\n",
    "\n",
    "from dotenv import load_dotenv, find_dotenv\n",
    "_ = load_dotenv(find_dotenv()) # read local .env file\n",
    "openai.api_key = os.environ['OPENAI_API_KEY']"
   ]
  },
  {
   "cell_type": "code",
   "execution_count": 4,
   "metadata": {},
   "outputs": [],
   "source": [
    "def getVectorDB():\n",
    "    from langchain.vectorstores import Chroma \n",
    "    #await delete folder\n",
    "    persist_directory = '..\\\\functions\\create_vectorstores\\\\vectorstores\\chroma'\n",
    "\n",
    "    from langchain.embeddings.openai import OpenAIEmbeddings\n",
    "    embedding = OpenAIEmbeddings()\n",
    "\n",
    "    vectordb = Chroma(\n",
    "        embedding_function=embedding,\n",
    "        persist_directory=persist_directory\n",
    "    )\n",
    "    return vectordb\n",
    "\n",
    "vectordb = getVectorDB()"
   ]
  },
  {
   "cell_type": "code",
   "execution_count": 5,
   "metadata": {},
   "outputs": [],
   "source": [
    "search_results = vectordb.max_marginal_relevance_search(\"chlorine\",k=20,lambda_mult=0.25)"
   ]
  },
  {
   "cell_type": "code",
   "execution_count": 6,
   "metadata": {},
   "outputs": [
    {
     "data": {
      "text/plain": [
       "[Document(metadata={'HS Code': '2801.10', 'source': 'Ch. 28.pdf'}, page_content='Prefix:  , HS Heading Name:Flourine, chlorine, bromine and iodine , Description:Chlorine'),\n",
       " Document(metadata={'HS Code': '2801.20', 'source': 'Ch. 28.pdf'}, page_content='Prefix:  , HS Heading Name:Flourine, chlorine, bromine and iodine , Description:Iodine'),\n",
       " Document(metadata={'HS Code': '2812.11', 'source': 'Ch. 28.pdf'}, page_content='Prefix: Chlorides and chloride oxides : , HS Heading Name:Halides and halide oxides of non-metals. , Description:Carbonyl dichloride (Phosgene)'),\n",
       " Document(metadata={'HS Code': '2812.14', 'source': 'Ch. 28.pdf'}, page_content='Prefix: Chlorides and chloride oxides : , HS Heading Name:Halides and halide oxides of non-metals. , Description:Phosphorus pentachloride'),\n",
       " Document(metadata={'HS Code': '2812.15', 'source': 'Ch. 28.pdf'}, page_content='Prefix: Chlorides and chloride oxides : , HS Heading Name:Halides and halide oxides of non-metals. , Description:Sulphur monochloride'),\n",
       " Document(metadata={'HS Code': '2812.13', 'source': 'Ch. 28.pdf'}, page_content='Prefix: Chlorides and chloride oxides : , HS Heading Name:Halides and halide oxides of non-metals. , Description:Phosphorus trichloride'),\n",
       " Document(metadata={'HS Code': '2801.30', 'source': 'Ch. 28.pdf'}, page_content='Prefix:  , HS Heading Name:Flourine, chlorine, bromine and iodine , Description:Fluorine; bromine'),\n",
       " Document(metadata={'HS Code': '2812.16', 'source': 'Ch. 28.pdf'}, page_content='Prefix: Chlorides and chloride oxides : , HS Heading Name:Halides and halide oxides of non-metals. , Description:Sulphur dichloride'),\n",
       " Document(metadata={'HS Code': '2806.10', 'source': 'Ch. 28.pdf'}, page_content='Prefix:  , HS Heading Name:Hydrogen chloride (hydrochloric acid);\\nchlorosulphuric acid. , Description:Hydrogen chloride (hydrochloric acid)'),\n",
       " Document(metadata={'HS Code': '2806.20', 'source': 'Ch. 28.pdf'}, page_content='Prefix:  , HS Heading Name:Hydrogen chloride (hydrochloric acid);\\nchlorosulphuric acid. , Description:Chlorosulphuric acid'),\n",
       " Document(metadata={'HS Code': '2812.12', 'source': 'Ch. 28.pdf'}, page_content='Prefix: Chlorides and chloride oxides : , HS Heading Name:Halides and halide oxides of non-metals. , Description:Phosphorus oxychloride'),\n",
       " Document(metadata={'HS Code': '2853.10', 'source': 'Ch. 28.pdf'}, page_content='Prefix:  , HS Heading Name:Phosphides, whether or not chemically\\ndefined, excluding ferrophosphorus;\\nother inorganic compounds (including\\ndistilled or conductivity water and water\\nof similar purity); liquid air (whether or\\nnot rare gases have been removed);\\ncompressed air; amalgams, other than\\namalgams of precious metals. , Description:Cyanogen chloride (Chlorcyan)'),\n",
       " Document(metadata={'HS Code': '2812.17', 'source': 'Ch. 28.pdf'}, page_content='Prefix: Chlorides and chloride oxides : , HS Heading Name:Halides and halide oxides of non-metals. , Description:Thionyl chloride'),\n",
       " Document(metadata={'HS Code': '2829.11', 'source': 'Ch. 28.pdf'}, page_content='Prefix: Chlorates : , HS Heading Name:Chlorates and perchlorates; bromates\\nand perbromates; iodates and\\nperiodates. , Description:Of sodium'),\n",
       " Document(metadata={'HS Code': '2827.20', 'source': 'Ch. 28.pdf'}, page_content='Prefix:  , HS Heading Name:Chlorides, chloride oxides and chloride\\nhydroxides; bromides and bromide\\noxides; iodides and iodide oxides. , Description:Calcium chloride'),\n",
       " Document(metadata={'HS Code': '2829.90', 'source': 'Ch. 28.pdf'}, page_content='Prefix: Chlorates : , HS Heading Name:Chlorates and perchlorates; bromates\\nand perbromates; iodates and\\nperiodates. , Description:Other'),\n",
       " Document(metadata={'HS Code': '2829.19', 'source': 'Ch. 28.pdf'}, page_content='Prefix: Chlorates : , HS Heading Name:Chlorates and perchlorates; bromates\\nand perbromates; iodates and\\nperiodates. , Description:Other'),\n",
       " Document(metadata={'HS Code': '2827.10', 'source': 'Ch. 28.pdf'}, page_content='Prefix:  , HS Heading Name:Chlorides, chloride oxides and chloride\\nhydroxides; bromides and bromide\\noxides; iodides and iodide oxides. , Description:Ammonium chloride'),\n",
       " Document(metadata={'HS Code': '2812.90', 'source': 'Ch. 28.pdf'}, page_content='Prefix: Chlorides and chloride oxides : , HS Heading Name:Halides and halide oxides of non-metals. , Description:Other'),\n",
       " Document(metadata={'HS Code': '2812.19', 'source': 'Ch. 28.pdf'}, page_content='Prefix: Chlorides and chloride oxides : , HS Heading Name:Halides and halide oxides of non-metals. , Description:Other')]"
      ]
     },
     "execution_count": 6,
     "metadata": {},
     "output_type": "execute_result"
    }
   ],
   "source": [
    "search_results"
   ]
  },
  {
   "cell_type": "code",
   "execution_count": 10,
   "metadata": {},
   "outputs": [],
   "source": [
    "search_results = vectordb.max_marginal_relevance_search(\"chlorine\",k=20,lambda_mult=0.25)\n",
    "\n",
    "hsCodes_of_results = []\n",
    "for search_result in search_results:\n",
    "    hsCodes_of_results.append(search_result.metadata[\"HS Code\"])"
   ]
  },
  {
   "cell_type": "code",
   "execution_count": 11,
   "metadata": {},
   "outputs": [
    {
     "name": "stdout",
     "output_type": "stream",
     "text": [
      "190\n"
     ]
    }
   ],
   "source": [
    "print(vectorDB._collection.count())"
   ]
  },
  {
   "cell_type": "code",
   "execution_count": 12,
   "metadata": {},
   "outputs": [
    {
     "data": {
      "text/plain": [
       "['2801.10',\n",
       " '2801.20',\n",
       " '2812.11',\n",
       " '2812.14',\n",
       " '2812.15',\n",
       " '2812.13',\n",
       " '2801.30',\n",
       " '2812.16',\n",
       " '2806.10',\n",
       " '2806.20',\n",
       " '2812.12',\n",
       " '2853.10',\n",
       " '2812.17',\n",
       " '2829.11',\n",
       " '2827.20',\n",
       " '2829.90',\n",
       " '2829.19',\n",
       " '2827.10',\n",
       " '2812.90',\n",
       " '2812.19']"
      ]
     },
     "execution_count": 12,
     "metadata": {},
     "output_type": "execute_result"
    }
   ],
   "source": [
    "hsCodes_of_results"
   ]
  },
  {
   "cell_type": "code",
   "execution_count": 6,
   "metadata": {},
   "outputs": [],
   "source": [
    "def getChain(vectordb):\n",
    "    from langchain.chat_models import ChatOpenAI\n",
    "    llm = ChatOpenAI(model_name=\"gpt-3.5-turbo\", temperature=0)\n",
    "\n",
    "    from langchain.chains import RetrievalQA\n",
    "    from langchain.prompts import PromptTemplate\n",
    "\n",
    "    # Build prompt\n",
    "    template = \"\"\"You are a chemistry expert. The context provided is from a tariff document regarding chemicals. Use the context to answer the question at the end. If you don't know the answer, just say that you don't know, don't try to make up an answer. \n",
    "    {context}\n",
    "    Question: {question}\n",
    "    Helpful Answer:\"\"\"\n",
    "    QA_CHAIN_PROMPT = PromptTemplate.from_template(template)\n",
    "\n",
    "    qa_chain = RetrievalQA.from_chain_type(\n",
    "        llm,\n",
    "        retriever=vectordb.as_retriever(\n",
    "            search_type = \"mmr\",\n",
    "            search_kwargs = { 'k':20, 'lambda_mult':0.25 }\n",
    "        ),\n",
    "        return_source_documents=True,\n",
    "        chain_type_kwargs={\"prompt\": QA_CHAIN_PROMPT}\n",
    "    )\n",
    "    return qa_chain"
   ]
  },
  {
   "cell_type": "code",
   "execution_count": 7,
   "metadata": {},
   "outputs": [
    {
     "name": "stderr",
     "output_type": "stream",
     "text": [
      "C:\\Users\\RehangaG\\AppData\\Local\\Temp\\ipykernel_13716\\2483036894.py:3: LangChainDeprecationWarning: The class `ChatOpenAI` was deprecated in LangChain 0.0.10 and will be removed in 1.0. An updated version of the class exists in the :class:`~langchain-openai package and should be used instead. To use it run `pip install -U :class:`~langchain-openai` and import as `from :class:`~langchain_openai import ChatOpenAI``.\n",
      "  llm = ChatOpenAI(model_name=\"gpt-3.5-turbo\", temperature=0)\n"
     ]
    }
   ],
   "source": [
    "qa_chain = getChain(vectorDB)"
   ]
  },
  {
   "cell_type": "code",
   "execution_count": 8,
   "metadata": {},
   "outputs": [],
   "source": [
    "def getAnswer(user_question) -> str:\n",
    "    result = qa_chain({\"query\": user_question})\n",
    "    return result[\"result\"]"
   ]
  },
  {
   "cell_type": "code",
   "execution_count": 9,
   "metadata": {},
   "outputs": [
    {
     "name": "stderr",
     "output_type": "stream",
     "text": [
      "C:\\Users\\RehangaG\\AppData\\Local\\Temp\\ipykernel_13716\\795836955.py:3: LangChainDeprecationWarning: The method `Chain.__call__` was deprecated in langchain 0.1.0 and will be removed in 1.0. Use :meth:`~invoke` instead.\n",
      "  result = qa_chain({\"query\": question})\n"
     ]
    },
    {
     "name": "stdout",
     "output_type": "stream",
     "text": [
      "Answer: Chlorine falls under HS Code 2801.10 and is classified under the category of \"Flourine, chlorine, bromine and iodine\". The preferential duty for chlorine is free in India.\n",
      "\n",
      "Source documents:\n",
      "[Document(metadata={'seq_num': 41, 'source': '/Users/rehangagamage/Desktop/pdfplumber/jsons/ch28.json'}, page_content='{\"Prefix\": \"Chlorides and chloride oxides :\", \"HS Hdg Name\": \"Halides and halide oxides of non-metals.\", \"HS Hdg\": \"28.12\", \"HS Code\": \"2812.12\", \"Description\": \"Phosphorus oxychloride\", \"Unit\": \"kg\", \"ICL/SLSI\": \"L\", \"Preferential Duty_AP\": \"\", \"Preferential Duty_AD\": \"\", \"Preferential Duty_BN\": \"\", \"Preferential Duty_GT\": \"\", \"Preferential Duty_IN\": \"Free\", \"Preferential Duty_PK\": \"Free\", \"Preferential Duty_SA\": \"\", \"Preferential Duty_SF\": \"Free\", \"Preferential Duty_SD\": \"Free\", \"Preferential Duty_SG\": \"Free\", \"Gen Duty\": \"Free\", \"VAT\": \"18%\", \"PAL_Gen\": \"Ex\", \"PAL_SG\": \"\", \"Cess_GEN\": \"\", \"Cess_SG\": \"\", \"Excise SPD\": \"\", \"SSCL\": \"2.5%\", \"SCL\": \"\"}'), Document(metadata={'seq_num': 43, 'source': '/Users/rehangagamage/Desktop/pdfplumber/jsons/ch28.json'}, page_content='{\"Prefix\": \"Chlorides and chloride oxides :\", \"HS Hdg Name\": \"Halides and halide oxides of non-metals.\", \"HS Hdg\": \"28.12\", \"HS Code\": \"2812.14\", \"Description\": \"Phosphorus pentachloride\", \"Unit\": \"kg\", \"ICL/SLSI\": \"L\", \"Preferential Duty_AP\": \"\", \"Preferential Duty_AD\": \"\", \"Preferential Duty_BN\": \"\", \"Preferential Duty_GT\": \"\", \"Preferential Duty_IN\": \"Free\", \"Preferential Duty_PK\": \"Free\", \"Preferential Duty_SA\": \"\", \"Preferential Duty_SF\": \"Free\", \"Preferential Duty_SD\": \"Free\", \"Preferential Duty_SG\": \"Free\", \"Gen Duty\": \"Free\", \"VAT\": \"18%\", \"PAL_Gen\": \"Ex\", \"PAL_SG\": \"\", \"Cess_GEN\": \"\", \"Cess_SG\": \"\", \"Excise SPD\": \"\", \"SSCL\": \"2.5%\", \"SCL\": \"\"}'), Document(metadata={'seq_num': 40, 'source': '/Users/rehangagamage/Desktop/pdfplumber/jsons/ch28.json'}, page_content='{\"Prefix\": \"Chlorides and chloride oxides :\", \"HS Hdg Name\": \"Halides and halide oxides of non-metals.\", \"HS Hdg\": \"28.12\", \"HS Code\": \"2812.11\", \"Description\": \"Carbonyl dichloride (Phosgene)\", \"Unit\": \"kg\", \"ICL/SLSI\": \"L\", \"Preferential Duty_AP\": \"\", \"Preferential Duty_AD\": \"\", \"Preferential Duty_BN\": \"\", \"Preferential Duty_GT\": \"\", \"Preferential Duty_IN\": \"Free\", \"Preferential Duty_PK\": \"Free\", \"Preferential Duty_SA\": \"\", \"Preferential Duty_SF\": \"Free\", \"Preferential Duty_SD\": \"Free\", \"Preferential Duty_SG\": \"Free\", \"Gen Duty\": \"Free\", \"VAT\": \"18%\", \"PAL_Gen\": \"Ex\", \"PAL_SG\": \"\", \"Cess_GEN\": \"\", \"Cess_SG\": \"\", \"Excise SPD\": \"\", \"SSCL\": \"2.5%\", \"SCL\": \"\"}'), Document(metadata={'seq_num': 42, 'source': '/Users/rehangagamage/Desktop/pdfplumber/jsons/ch28.json'}, page_content='{\"Prefix\": \"Chlorides and chloride oxides :\", \"HS Hdg Name\": \"Halides and halide oxides of non-metals.\", \"HS Hdg\": \"28.12\", \"HS Code\": \"2812.13\", \"Description\": \"Phosphorus trichloride\", \"Unit\": \"kg\", \"ICL/SLSI\": \"L\", \"Preferential Duty_AP\": \"\", \"Preferential Duty_AD\": \"\", \"Preferential Duty_BN\": \"\", \"Preferential Duty_GT\": \"\", \"Preferential Duty_IN\": \"Free\", \"Preferential Duty_PK\": \"Free\", \"Preferential Duty_SA\": \"\", \"Preferential Duty_SF\": \"Free\", \"Preferential Duty_SD\": \"Free\", \"Preferential Duty_SG\": \"Free\", \"Gen Duty\": \"Free\", \"VAT\": \"18%\", \"PAL_Gen\": \"Ex\", \"PAL_SG\": \"\", \"Cess_GEN\": \"\", \"Cess_SG\": \"\", \"Excise SPD\": \"\", \"SSCL\": \"2.5%\", \"SCL\": \"\"}'), Document(metadata={'seq_num': 46, 'source': '/Users/rehangagamage/Desktop/pdfplumber/jsons/ch28.json'}, page_content='{\"Prefix\": \"Chlorides and chloride oxides :\", \"HS Hdg Name\": \"Halides and halide oxides of non-metals.\", \"HS Hdg\": \"28.12\", \"HS Code\": \"2812.17\", \"Description\": \"Thionyl chloride\", \"Unit\": \"kg\", \"ICL/SLSI\": \"L\", \"Preferential Duty_AP\": \"\", \"Preferential Duty_AD\": \"\", \"Preferential Duty_BN\": \"\", \"Preferential Duty_GT\": \"\", \"Preferential Duty_IN\": \"Free\", \"Preferential Duty_PK\": \"Free\", \"Preferential Duty_SA\": \"\", \"Preferential Duty_SF\": \"Free\", \"Preferential Duty_SD\": \"Free\", \"Preferential Duty_SG\": \"Free\", \"Gen Duty\": \"Free\", \"VAT\": \"18%\", \"PAL_Gen\": \"Ex\", \"PAL_SG\": \"\", \"Cess_GEN\": \"\", \"Cess_SG\": \"\", \"Excise SPD\": \"\", \"SSCL\": \"2.5%\", \"SCL\": \"\"}'), Document(metadata={'seq_num': 44, 'source': '/Users/rehangagamage/Desktop/pdfplumber/jsons/ch28.json'}, page_content='{\"Prefix\": \"Chlorides and chloride oxides :\", \"HS Hdg Name\": \"Halides and halide oxides of non-metals.\", \"HS Hdg\": \"28.12\", \"HS Code\": \"2812.15\", \"Description\": \"Sulphur monochloride\", \"Unit\": \"kg\", \"ICL/SLSI\": \"L\", \"Preferential Duty_AP\": \"\", \"Preferential Duty_AD\": \"\", \"Preferential Duty_BN\": \"\", \"Preferential Duty_GT\": \"\", \"Preferential Duty_IN\": \"Free\", \"Preferential Duty_PK\": \"Free\", \"Preferential Duty_SA\": \"\", \"Preferential Duty_SF\": \"Free\", \"Preferential Duty_SD\": \"Free\", \"Preferential Duty_SG\": \"Free\", \"Gen Duty\": \"Free\", \"VAT\": \"18%\", \"PAL_Gen\": \"Ex\", \"PAL_SG\": \"\", \"Cess_GEN\": \"\", \"Cess_SG\": \"\", \"Excise SPD\": \"\", \"SSCL\": \"2.5%\", \"SCL\": \"\"}'), Document(metadata={'seq_num': 1, 'source': '/Users/rehangagamage/Desktop/pdfplumber/jsons/ch28.json'}, page_content='{\"Prefix\": \"\", \"HS Hdg Name\": \"Flourine, chlorine, bromine and iodine\", \"HS Hdg\": \"28.01\", \"HS Code\": \"2801.10\", \"Description\": \"Chlorine\", \"Unit\": \"kg\", \"ICL/SLSI\": \"\", \"Preferential Duty_AP\": \"\", \"Preferential Duty_AD\": \"\", \"Preferential Duty_BN\": \"\", \"Preferential Duty_GT\": \"\", \"Preferential Duty_IN\": \"Free\", \"Preferential Duty_PK\": \"Free\", \"Preferential Duty_SA\": \"\", \"Preferential Duty_SF\": \"Free\", \"Preferential Duty_SD\": \"Free\", \"Preferential Duty_SG\": \"Free\", \"Gen Duty\": \"Free\", \"VAT\": \"18%\", \"PAL_Gen\": \"10%\", \"PAL_SG\": \"6%\", \"Cess_GEN\": \"\", \"Cess_SG\": \"\", \"Excise SPD\": \"\", \"SSCL\": \"2.5%\", \"SCL\": \"\"}'), Document(metadata={'seq_num': 45, 'source': '/Users/rehangagamage/Desktop/pdfplumber/jsons/ch28.json'}, page_content='{\"Prefix\": \"Chlorides and chloride oxides :\", \"HS Hdg Name\": \"Halides and halide oxides of non-metals.\", \"HS Hdg\": \"28.12\", \"HS Code\": \"2812.16\", \"Description\": \"Sulphur dichloride\", \"Unit\": \"kg\", \"ICL/SLSI\": \"L\", \"Preferential Duty_AP\": \"\", \"Preferential Duty_AD\": \"\", \"Preferential Duty_BN\": \"\", \"Preferential Duty_GT\": \"\", \"Preferential Duty_IN\": \"Free\", \"Preferential Duty_PK\": \"Free\", \"Preferential Duty_SA\": \"\", \"Preferential Duty_SF\": \"Free\", \"Preferential Duty_SD\": \"Free\", \"Preferential Duty_SG\": \"Free\", \"Gen Duty\": \"Free\", \"VAT\": \"18%\", \"PAL_Gen\": \"Ex\", \"PAL_SG\": \"\", \"Cess_GEN\": \"\", \"Cess_SG\": \"\", \"Excise SPD\": \"\", \"SSCL\": \"2.5%\", \"SCL\": \"\"}'), Document(metadata={'seq_num': 25, 'source': '/Users/rehangagamage/Desktop/pdfplumber/jsons/ch28.json'}, page_content='{\"Prefix\": \"\", \"HS Hdg Name\": \"Hydrogen chloride (hydrochloric acid);\\\\nchlorosulphuric acid.\", \"HS Hdg\": \"28.06\", \"HS Code\": \"2806.10\", \"Description\": \"Hydrogen chloride (hydrochloric acid)\", \"Unit\": \"kg\", \"ICL/SLSI\": \"L\", \"Preferential Duty_AP\": \"\", \"Preferential Duty_AD\": \"\", \"Preferential Duty_BN\": \"\", \"Preferential Duty_GT\": \"\", \"Preferential Duty_IN\": \"Free\", \"Preferential Duty_PK\": \"Free\", \"Preferential Duty_SA\": \"\", \"Preferential Duty_SF\": \"Free\", \"Preferential Duty_SD\": \"Free\", \"Preferential Duty_SG\": \"Free\", \"Gen Duty\": \"Free\", \"VAT\": \"18%\", \"PAL_Gen\": \"10%\", \"PAL_SG\": \"6%\", \"Cess_GEN\": \"\", \"Cess_SG\": \"\", \"Excise SPD\": \"\", \"SSCL\": \"2.5%\", \"SCL\": \"\"}'), Document(metadata={'seq_num': 91, 'source': '/Users/rehangagamage/Desktop/pdfplumber/jsons/ch28.json'}, page_content='{\"Prefix\": \"Other chlorides :\", \"HS Hdg Name\": \"Chlorides, chloride oxides and chloride\\\\nhydroxides; bromides and bromide\\\\noxides; iodides and iodide oxides.\", \"HS Hdg\": \"28.27\", \"HS Code\": \"2827.39\", \"Description\": \"Other\", \"Unit\": \"kg\", \"ICL/SLSI\": \"\", \"Preferential Duty_AP\": \"\", \"Preferential Duty_AD\": \"\", \"Preferential Duty_BN\": \"\", \"Preferential Duty_GT\": \"\", \"Preferential Duty_IN\": \"Free\", \"Preferential Duty_PK\": \"Free\", \"Preferential Duty_SA\": \"\", \"Preferential Duty_SF\": \"Free\", \"Preferential Duty_SD\": \"Free\", \"Preferential Duty_SG\": \"Free\", \"Gen Duty\": \"Free\", \"VAT\": \"18%\", \"PAL_Gen\": \"10%\", \"PAL_SG\": \"6%\", \"Cess_GEN\": \"\", \"Cess_SG\": \"\", \"Excise SPD\": \"\", \"SSCL\": \"2.5%\", \"SCL\": \"\"}'), Document(metadata={'seq_num': 89, 'source': '/Users/rehangagamage/Desktop/pdfplumber/jsons/ch28.json'}, page_content='{\"Prefix\": \"Other chlorides :\", \"HS Hdg Name\": \"Chlorides, chloride oxides and chloride\\\\nhydroxides; bromides and bromide\\\\noxides; iodides and iodide oxides.\", \"HS Hdg\": \"28.27\", \"HS Code\": \"2827.32\", \"Description\": \"Of aluminium\", \"Unit\": \"kg\", \"ICL/SLSI\": \"\", \"Preferential Duty_AP\": \"\", \"Preferential Duty_AD\": \"\", \"Preferential Duty_BN\": \"\", \"Preferential Duty_GT\": \"\", \"Preferential Duty_IN\": \"Free\", \"Preferential Duty_PK\": \"Free\", \"Preferential Duty_SA\": \"\", \"Preferential Duty_SF\": \"Free\", \"Preferential Duty_SD\": \"Free\", \"Preferential Duty_SG\": \"Free\", \"Gen Duty\": \"Free\", \"VAT\": \"18%\", \"PAL_Gen\": \"10%\", \"PAL_SG\": \"6%\", \"Cess_GEN\": \"\", \"Cess_SG\": \"\", \"Excise SPD\": \"\", \"SSCL\": \"2.5%\", \"SCL\": \"\"}'), Document(metadata={'seq_num': 47, 'source': '/Users/rehangagamage/Desktop/pdfplumber/jsons/ch28.json'}, page_content='{\"Prefix\": \"Chlorides and chloride oxides :\", \"HS Hdg Name\": \"Halides and halide oxides of non-metals.\", \"HS Hdg\": \"28.12\", \"HS Code\": \"2812.19\", \"Description\": \"Other\", \"Unit\": \"kg\", \"ICL/SLSI\": \"\", \"Preferential Duty_AP\": \"\", \"Preferential Duty_AD\": \"\", \"Preferential Duty_BN\": \"\", \"Preferential Duty_GT\": \"\", \"Preferential Duty_IN\": \"Free\", \"Preferential Duty_PK\": \"Free\", \"Preferential Duty_SA\": \"\", \"Preferential Duty_SF\": \"Free\", \"Preferential Duty_SD\": \"Free\", \"Preferential Duty_SG\": \"Free\", \"Gen Duty\": \"Free\", \"VAT\": \"18%\", \"PAL_Gen\": \"Ex\", \"PAL_SG\": \"\", \"Cess_GEN\": \"\", \"Cess_SG\": \"\", \"Excise SPD\": \"\", \"SSCL\": \"2.5%\", \"SCL\": \"\"}'), Document(metadata={'seq_num': 48, 'source': '/Users/rehangagamage/Desktop/pdfplumber/jsons/ch28.json'}, page_content='{\"Prefix\": \"Chlorides and chloride oxides :\", \"HS Hdg Name\": \"Halides and halide oxides of non-metals.\", \"HS Hdg\": \"28.12\", \"HS Code\": \"2812.90\", \"Description\": \"Other\", \"Unit\": \"kg\", \"ICL/SLSI\": \"\", \"Preferential Duty_AP\": \"\", \"Preferential Duty_AD\": \"\", \"Preferential Duty_BN\": \"\", \"Preferential Duty_GT\": \"\", \"Preferential Duty_IN\": \"Free\", \"Preferential Duty_PK\": \"Free\", \"Preferential Duty_SA\": \"\", \"Preferential Duty_SF\": \"Free\", \"Preferential Duty_SD\": \"Free\", \"Preferential Duty_SG\": \"Free\", \"Gen Duty\": \"Free\", \"VAT\": \"18%\", \"PAL_Gen\": \"Ex\", \"PAL_SG\": \"\", \"Cess_GEN\": \"\", \"Cess_SG\": \"\", \"Excise SPD\": \"\", \"SSCL\": \"2.5%\", \"SCL\": \"\"}'), Document(metadata={'seq_num': 189, 'source': '/Users/rehangagamage/Desktop/pdfplumber/jsons/ch28.json'}, page_content='{\"Prefix\": \"\", \"HS Hdg Name\": \"Phosphides, whether or not chemically\\\\ndefined, excluding ferrophosphorus;\\\\nother inorganic compounds (including\\\\ndistilled or conductivity water and water\\\\nof similar purity); liquid air (whether or\\\\nnot rare gases have been removed);\\\\ncompressed air; amalgams, other than\\\\namalgams of precious metals.\", \"HS Hdg\": \"28.53\", \"HS Code\": \"2853.10\", \"Description\": \"Cyanogen chloride (Chlorcyan)\", \"Unit\": \"kg\", \"ICL/SLSI\": \"L\", \"Preferential Duty_AP\": \"\", \"Preferential Duty_AD\": \"\", \"Preferential Duty_BN\": \"\", \"Preferential Duty_GT\": \"\", \"Preferential Duty_IN\": \"Free\", \"Preferential Duty_PK\": \"Free\", \"Preferential Duty_SA\": \"\", \"Preferential Duty_SF\": \"Free\", \"Preferential Duty_SD\": \"Free\", \"Preferential Duty_SG\": \"Free\", \"Gen Duty\": \"Free\", \"VAT\": \"18%\", \"PAL_Gen\": \"Ex\", \"PAL_SG\": \"\", \"Cess_GEN\": \"\", \"Cess_SG\": \"\", \"Excise SPD\": \"\", \"SSCL\": \"2.5%\", \"SCL\": \"\"}'), Document(metadata={'seq_num': 90, 'source': '/Users/rehangagamage/Desktop/pdfplumber/jsons/ch28.json'}, page_content='{\"Prefix\": \"Other chlorides :\", \"HS Hdg Name\": \"Chlorides, chloride oxides and chloride\\\\nhydroxides; bromides and bromide\\\\noxides; iodides and iodide oxides.\", \"HS Hdg\": \"28.27\", \"HS Code\": \"2827.35\", \"Description\": \"Of nickel\", \"Unit\": \"kg\", \"ICL/SLSI\": \"\", \"Preferential Duty_AP\": \"\", \"Preferential Duty_AD\": \"\", \"Preferential Duty_BN\": \"\", \"Preferential Duty_GT\": \"\", \"Preferential Duty_IN\": \"Free\", \"Preferential Duty_PK\": \"Free\", \"Preferential Duty_SA\": \"\", \"Preferential Duty_SF\": \"Free\", \"Preferential Duty_SD\": \"Free\", \"Preferential Duty_SG\": \"Free\", \"Gen Duty\": \"Free\", \"VAT\": \"18%\", \"PAL_Gen\": \"Ex\", \"PAL_SG\": \"\", \"Cess_GEN\": \"\", \"Cess_SG\": \"\", \"Excise SPD\": \"\", \"SSCL\": \"2.5%\", \"SCL\": \"\"}'), Document(metadata={'seq_num': 26, 'source': '/Users/rehangagamage/Desktop/pdfplumber/jsons/ch28.json'}, page_content='{\"Prefix\": \"\", \"HS Hdg Name\": \"Hydrogen chloride (hydrochloric acid);\\\\nchlorosulphuric acid.\", \"HS Hdg\": \"28.06\", \"HS Code\": \"2806.20\", \"Description\": \"Chlorosulphuric acid\", \"Unit\": \"kg\", \"ICL/SLSI\": \"\", \"Preferential Duty_AP\": \"\", \"Preferential Duty_AD\": \"\", \"Preferential Duty_BN\": \"\", \"Preferential Duty_GT\": \"\", \"Preferential Duty_IN\": \"Free\", \"Preferential Duty_PK\": \"Free\", \"Preferential Duty_SA\": \"\", \"Preferential Duty_SF\": \"Free\", \"Preferential Duty_SD\": \"Free\", \"Preferential Duty_SG\": \"Free\", \"Gen Duty\": \"Free\", \"VAT\": \"18%\", \"PAL_Gen\": \"Ex\", \"PAL_SG\": \"\", \"Cess_GEN\": \"\", \"Cess_SG\": \"\", \"Excise SPD\": \"\", \"SSCL\": \"2.5%\", \"SCL\": \"\"}'), Document(metadata={'seq_num': 88, 'source': '/Users/rehangagamage/Desktop/pdfplumber/jsons/ch28.json'}, page_content='{\"Prefix\": \"Other chlorides :\", \"HS Hdg Name\": \"Chlorides, chloride oxides and chloride\\\\nhydroxides; bromides and bromide\\\\noxides; iodides and iodide oxides.\", \"HS Hdg\": \"28.27\", \"HS Code\": \"2827.31\", \"Description\": \"Of magnesium\", \"Unit\": \"kg\", \"ICL/SLSI\": \"\", \"Preferential Duty_AP\": \"\", \"Preferential Duty_AD\": \"\", \"Preferential Duty_BN\": \"\", \"Preferential Duty_GT\": \"\", \"Preferential Duty_IN\": \"Free\", \"Preferential Duty_PK\": \"Free\", \"Preferential Duty_SA\": \"\", \"Preferential Duty_SF\": \"Free\", \"Preferential Duty_SD\": \"Free\", \"Preferential Duty_SG\": \"Free\", \"Gen Duty\": \"Free\", \"VAT\": \"18%\", \"PAL_Gen\": \"Ex\", \"PAL_SG\": \"\", \"Cess_GEN\": \"\", \"Cess_SG\": \"\", \"Excise SPD\": \"\", \"SSCL\": \"2.5%\", \"SCL\": \"\"}'), Document(metadata={'seq_num': 86, 'source': '/Users/rehangagamage/Desktop/pdfplumber/jsons/ch28.json'}, page_content='{\"Prefix\": \"\", \"HS Hdg Name\": \"Chlorides, chloride oxides and chloride\\\\nhydroxides; bromides and bromide\\\\noxides; iodides and iodide oxides.\", \"HS Hdg\": \"28.27\", \"HS Code\": \"2827.10\", \"Description\": \"Ammonium chloride\", \"Unit\": \"kg\", \"ICL/SLSI\": \"\", \"Preferential Duty_AP\": \"\", \"Preferential Duty_AD\": \"\", \"Preferential Duty_BN\": \"\", \"Preferential Duty_GT\": \"\", \"Preferential Duty_IN\": \"Free\", \"Preferential Duty_PK\": \"Free\", \"Preferential Duty_SA\": \"\", \"Preferential Duty_SF\": \"Free\", \"Preferential Duty_SD\": \"Free\", \"Preferential Duty_SG\": \"Free\", \"Gen Duty\": \"Free\", \"VAT\": \"18%\", \"PAL_Gen\": \"10%\", \"PAL_SG\": \"6%\", \"Cess_GEN\": \"\", \"Cess_SG\": \"\", \"Excise SPD\": \"\", \"SSCL\": \"2.5%\", \"SCL\": \"\"}'), Document(metadata={'seq_num': 92, 'source': '/Users/rehangagamage/Desktop/pdfplumber/jsons/ch28.json'}, page_content='{\"Prefix\": \"Chloride oxides and chloride hydroxides :\", \"HS Hdg Name\": \"Chlorides, chloride oxides and chloride\\\\nhydroxides; bromides and bromide\\\\noxides; iodides and iodide oxides.\", \"HS Hdg\": \"28.27\", \"HS Code\": \"2827.41\", \"Description\": \"Of copper\", \"Unit\": \"kg\", \"ICL/SLSI\": \"\", \"Preferential Duty_AP\": \"\", \"Preferential Duty_AD\": \"\", \"Preferential Duty_BN\": \"\", \"Preferential Duty_GT\": \"\", \"Preferential Duty_IN\": \"Free\", \"Preferential Duty_PK\": \"Free\", \"Preferential Duty_SA\": \"\", \"Preferential Duty_SF\": \"Free\", \"Preferential Duty_SD\": \"Free\", \"Preferential Duty_SG\": \"Free\", \"Gen Duty\": \"Free\", \"VAT\": \"18%\", \"PAL_Gen\": \"Ex\", \"PAL_SG\": \"\", \"Cess_GEN\": \"\", \"Cess_SG\": \"\", \"Excise SPD\": \"\", \"SSCL\": \"2.5%\", \"SCL\": \"\"}'), Document(metadata={'seq_num': 93, 'source': '/Users/rehangagamage/Desktop/pdfplumber/jsons/ch28.json'}, page_content='{\"Prefix\": \"Chloride oxides and chloride hydroxides :\", \"HS Hdg Name\": \"Chlorides, chloride oxides and chloride\\\\nhydroxides; bromides and bromide\\\\noxides; iodides and iodide oxides.\", \"HS Hdg\": \"28.27\", \"HS Code\": \"2827.49\", \"Description\": \"Other\", \"Unit\": \"kg\", \"ICL/SLSI\": \"\", \"Preferential Duty_AP\": \"\", \"Preferential Duty_AD\": \"\", \"Preferential Duty_BN\": \"\", \"Preferential Duty_GT\": \"\", \"Preferential Duty_IN\": \"Free\", \"Preferential Duty_PK\": \"Free\", \"Preferential Duty_SA\": \"\", \"Preferential Duty_SF\": \"Free\", \"Preferential Duty_SD\": \"Free\", \"Preferential Duty_SG\": \"Free\", \"Gen Duty\": \"Free\", \"VAT\": \"18%\", \"PAL_Gen\": \"10%\", \"PAL_SG\": \"6%\", \"Cess_GEN\": \"\", \"Cess_SG\": \"\", \"Excise SPD\": \"\", \"SSCL\": \"2.5%\", \"SCL\": \"\"}')]\n"
     ]
    }
   ],
   "source": [
    "\n",
    "question = input(\"Enter query\")\n",
    "\n",
    "result = qa_chain({\"query\": question}) \n",
    "print(\"Answer: \" + result[\"result\"])\n",
    "print()\n",
    "print(\"Source documents:\")\n",
    "\n",
    "print(result[\"source_documents\"])"
   ]
  }
 ],
 "metadata": {
  "kernelspec": {
   "display_name": "Python 3",
   "language": "python",
   "name": "python3"
  },
  "language_info": {
   "codemirror_mode": {
    "name": "ipython",
    "version": 3
   },
   "file_extension": ".py",
   "mimetype": "text/x-python",
   "name": "python",
   "nbconvert_exporter": "python",
   "pygments_lexer": "ipython3",
   "version": "3.11.9"
  }
 },
 "nbformat": 4,
 "nbformat_minor": 2
}
