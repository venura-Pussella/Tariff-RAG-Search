{
 "cells": [
  {
   "cell_type": "markdown",
   "metadata": {},
   "source": [
    "#### Load the json file into a dictionary"
   ]
  },
  {
   "cell_type": "code",
   "execution_count": 9,
   "metadata": {},
   "outputs": [],
   "source": [
    "from langchain_community.document_loaders import JSONLoader\n",
    "\n",
    "import json\n",
    "from pathlib import Path\n",
    "from pprint import pprint\n",
    "\n",
    "\n",
    "file_path='../jsons/ch28.json'\n",
    "json_dict = json.loads(Path(file_path).read_text())"
   ]
  },
  {
   "cell_type": "markdown",
   "metadata": {},
   "source": [
    "#### Create langchain documents with the relevant data"
   ]
  },
  {
   "cell_type": "code",
   "execution_count": 12,
   "metadata": {},
   "outputs": [],
   "source": [
    "from langchain_core.documents import Document"
   ]
  },
  {
   "cell_type": "code",
   "execution_count": 15,
   "metadata": {},
   "outputs": [],
   "source": [
    "docs = []\n",
    "items = json_dict[\"Items\"]\n",
    "source = json_dict[\"Document Name\"]\n",
    "\n",
    "for item in items:\n",
    "    prefix = item[\"Prefix\"]\n",
    "    hsHeadingName = item[\"HS Hdg Name\"]\n",
    "    hscode = item[\"HS Code\"]\n",
    "    description = item[\"Description\"]\n",
    "\n",
    "    content = \"Prefix: \" + prefix + \" , HS Heading Name:\" + hsHeadingName + \" , Description:\" + description\n",
    "    document = Document(\n",
    "        page_content=content,\n",
    "        metadata={\n",
    "            \"source\": source,\n",
    "            \"HS Code\": hscode   \n",
    "        }\n",
    "    )\n",
    "    docs.append(document)\n"
   ]
  },
  {
   "cell_type": "markdown",
   "metadata": {},
   "source": [
    "#### Splitting\n",
    "\n",
    "no need to split the items, let's see about the chapter context."
   ]
  },
  {
   "cell_type": "markdown",
   "metadata": {},
   "source": [
    "#### Create Vectorstore"
   ]
  },
  {
   "cell_type": "code",
   "execution_count": 20,
   "metadata": {},
   "outputs": [],
   "source": [
    "import os\n",
    "import openai\n",
    "\n",
    "from dotenv import load_dotenv, find_dotenv\n",
    "_ = load_dotenv(find_dotenv()) # read local .env file\n",
    "openai.api_key = os.environ['OPENAI_API_KEY']"
   ]
  },
  {
   "cell_type": "code",
   "execution_count": 27,
   "metadata": {},
   "outputs": [],
   "source": [
    "from langchain.embeddings.openai import OpenAIEmbeddings\n",
    "embedding = OpenAIEmbeddings()"
   ]
  },
  {
   "cell_type": "code",
   "execution_count": 28,
   "metadata": {},
   "outputs": [],
   "source": [
    "from langchain.vectorstores import Chroma\n",
    "\n",
    "persist_directory = 'vectorstore/Chroma'"
   ]
  },
  {
   "cell_type": "code",
   "execution_count": 30,
   "metadata": {},
   "outputs": [],
   "source": [
    "vectordb = Chroma.from_documents(\n",
    "    documents=docs,\n",
    "    embedding=embedding,\n",
    "    persist_directory=persist_directory\n",
    ")"
   ]
  },
  {
   "cell_type": "code",
   "execution_count": 10,
   "metadata": {},
   "outputs": [
    {
     "name": "stdout",
     "output_type": "stream",
     "text": [
      "190\n"
     ]
    }
   ],
   "source": [
    "print(vectordb._collection.count())"
   ]
  },
  {
   "cell_type": "markdown",
   "metadata": {},
   "source": [
    "#### Testing with Similarity Search"
   ]
  },
  {
   "cell_type": "code",
   "execution_count": 32,
   "metadata": {},
   "outputs": [],
   "source": [
    "question1 = \"chlorine\"\n",
    "ans = vectordb.similarity_search(question1,k=3)"
   ]
  },
  {
   "cell_type": "code",
   "execution_count": 33,
   "metadata": {},
   "outputs": [
    {
     "data": {
      "text/plain": [
       "[Document(metadata={'HS Code': '2801.10', 'source': 'Ch. 28.pdf'}, page_content='Prefix:  , HS Heading Name:Flourine, chlorine, bromine and iodine , Description:Chlorine'),\n",
       " Document(metadata={'HS Code': '2801.20', 'source': 'Ch. 28.pdf'}, page_content='Prefix:  , HS Heading Name:Flourine, chlorine, bromine and iodine , Description:Iodine'),\n",
       " Document(metadata={'HS Code': '2812.11', 'source': 'Ch. 28.pdf'}, page_content='Prefix: Chlorides and chloride oxides : , HS Heading Name:Halides and halide oxides of non-metals. , Description:Carbonyl dichloride (Phosgene)')]"
      ]
     },
     "execution_count": 33,
     "metadata": {},
     "output_type": "execute_result"
    }
   ],
   "source": [
    "ans"
   ]
  },
  {
   "cell_type": "markdown",
   "metadata": {},
   "source": [
    "#### Feeding to Chat Bot"
   ]
  },
  {
   "cell_type": "code",
   "execution_count": 34,
   "metadata": {},
   "outputs": [
    {
     "name": "stderr",
     "output_type": "stream",
     "text": [
      "C:\\Users\\RehangaG\\AppData\\Local\\Temp\\ipykernel_18544\\2902982056.py:2: LangChainDeprecationWarning: The class `ChatOpenAI` was deprecated in LangChain 0.0.10 and will be removed in 1.0. An updated version of the class exists in the :class:`~langchain-openai package and should be used instead. To use it run `pip install -U :class:`~langchain-openai` and import as `from :class:`~langchain_openai import ChatOpenAI``.\n",
      "  llm = ChatOpenAI(model_name=\"gpt-3.5-turbo\", temperature=0)\n"
     ]
    }
   ],
   "source": [
    "from langchain.chat_models import ChatOpenAI\n",
    "llm = ChatOpenAI(model_name=\"gpt-3.5-turbo\", temperature=0)"
   ]
  },
  {
   "cell_type": "code",
   "execution_count": 23,
   "metadata": {},
   "outputs": [],
   "source": [
    "# from langchain.chains import RetrievalQA\n",
    "\n",
    "# qa_chain = RetrievalQA.from_chain_type(\n",
    "#     llm,\n",
    "#     retriever=vectordb.as_retriever()\n",
    "# )"
   ]
  },
  {
   "cell_type": "code",
   "execution_count": 25,
   "metadata": {},
   "outputs": [
    {
     "data": {
      "text/plain": [
       "\"I don't have information on the HS codes for group 7 elements.\""
      ]
     },
     "execution_count": 25,
     "metadata": {},
     "output_type": "execute_result"
    }
   ],
   "source": [
    "# question = \"what are the hs codes for group 7 elements\"\n",
    "# result = qa_chain({\"query\": question})\n",
    "# result[\"result\"]"
   ]
  },
  {
   "cell_type": "code",
   "execution_count": 74,
   "metadata": {},
   "outputs": [],
   "source": [
    "from langchain.prompts import PromptTemplate\n",
    "\n",
    "# Build prompt\n",
    "template = \"\"\"You are a chemistry expert. The context provided is from a tariff document regarding chemicals. Use the context to answer the question at the end. If you don't know the answer, just say that you don't know, don't try to make up an answer. \n",
    "{context}\n",
    "Question: {question}\n",
    "Helpful Answer:\"\"\"\n",
    "QA_CHAIN_PROMPT = PromptTemplate.from_template(template)\n",
    "\n",
    "qa_chain = RetrievalQA.from_chain_type(\n",
    "    llm,\n",
    "    retriever=vectordb.as_retriever(\n",
    "        search_type = \"mmr\",\n",
    "        search_kwargs = { 'k':20, 'lambda_mult':0.25 }\n",
    "    ),\n",
    "    return_source_documents=True,\n",
    "    chain_type_kwargs={\"prompt\": QA_CHAIN_PROMPT}\n",
    ")\n",
    "\n"
   ]
  },
  {
   "cell_type": "code",
   "execution_count": 86,
   "metadata": {},
   "outputs": [
    {
     "data": {
      "text/plain": [
       "'The inorganic oxygen compounds of non-metals that have Gen Duty are Hydrogen cyanide (hydrocyanic acid) and Hydrogen fluoride (hydrofluoric acid).'"
      ]
     },
     "execution_count": 86,
     "metadata": {},
     "output_type": "execute_result"
    }
   ],
   "source": [
    "question1 = \"What is the HS code for chlorine\" #works\n",
    "question2 = \"what is the pal sg for chlorine\" #works\n",
    "question3 = \"what the hs codes for rare gases\" #acceptable\n",
    "question4 = \"what are the hs codes for group 7 elements\" #confuses it, gets wrong stuff\n",
    "question5 = \"what are the hs codes for halogens\" #but this works :)\n",
    "question6  = \"what is the pal sg for bromine\"#works\n",
    "question7 = \"what is the pal gen for iodine\" #works\n",
    "question8 = \"what is the hs code for sand\" #fails\n",
    "question9 = \"what is the hs hdg for radioactive stuff\" #works\n",
    "question10 = \"how many radioactive categories are there?\" #should be 9, returns 7\n",
    "question11 = \"list the radioactive categories\" #returns 5, but there are more in the retrieved 20 documents\n",
    "question12 = \"what is the hs code of hydrogen peroxide\" #works\n",
    "question13 = \"list all the chlorides mentioned\" #returns 6\n",
    "question14 = \"list all the chlorides mentioned with their hs codes\" #actually got the stuff from the dedicated chloride category, but missed others in other categories like thionyl choride which is in halides, and hydrogen chloride which is in some other category\n",
    "question15 = \"list the noble gases with their hs codes\" # returned argon's hs code for helium (especially when helium-3 is listed in a different category), got argon and neon right (since neon falls under other), but didn't realize that krypton and above also falls under other \n",
    "question16 = \"list hs code of helium\" #correct despite above\n",
    "question17 = \"what are the details of hs code 2812.15\"\n",
    "question18 = \"what are the details of hs code 2804.30\"\n",
    "question19 = \"what is the hs code of oxygen\"\n",
    "question20 = \"what are the inorganic oxygen compounds of non-metals that have Gen Duty.\"\n",
    "result = qa_chain({\"query\": question20}) \n",
    "result[\"result\"]"
   ]
  },
  {
   "cell_type": "code",
   "execution_count": 87,
   "metadata": {},
   "outputs": [
    {
     "data": {
      "text/plain": [
       "[Document(metadata={'seq_num': 35, 'source': '/Users/rehangagamage/Desktop/pdfplumber/jsons/ch28.json'}, page_content='{\"Prefix\": \"Other inorganic oxygen compounds of non-\\\\nmetals :\", \"HS Hdg Name\": \"Other inorganic acids and other\\\\ninorganic oxygen compounds of non-\\\\nmetals.\", \"HS Hdg\": \"28.11\", \"HS Code\": \"2811.21\", \"Description\": \"Carbon dioxide\", \"Unit\": \"kg\", \"ICL/SLSI\": \"\", \"Preferential Duty_AP\": \"\", \"Preferential Duty_AD\": \"\", \"Preferential Duty_BN\": \"\", \"Preferential Duty_GT\": \"\", \"Preferential Duty_IN\": \"Free\", \"Preferential Duty_PK\": \"Free\", \"Preferential Duty_SA\": \"\", \"Preferential Duty_SF\": \"5%\", \"Preferential Duty_SD\": \"4.5%\", \"Preferential Duty_SG\": \"10.0%\", \"Gen Duty\": \"15%\", \"VAT\": \"18%\", \"PAL_Gen\": \"10%\", \"PAL_SG\": \"6%\", \"Cess_GEN\": \"5%\", \"Cess_SG\": \"Free\", \"Excise SPD\": \"\", \"SSCL\": \"2.5%\", \"SCL\": \"\"}'),\n",
       " Document(metadata={'seq_num': 36, 'source': '/Users/rehangagamage/Desktop/pdfplumber/jsons/ch28.json'}, page_content='{\"Prefix\": \"Other inorganic oxygen compounds of non-\\\\nmetals :\", \"HS Hdg Name\": \"Other inorganic acids and other\\\\ninorganic oxygen compounds of non-\\\\nmetals.\", \"HS Hdg\": \"28.11\", \"HS Code\": \"2811.22\", \"Description\": \"Silicon dioxide\", \"Unit\": \"kg\", \"ICL/SLSI\": \"\", \"Preferential Duty_AP\": \"\", \"Preferential Duty_AD\": \"\", \"Preferential Duty_BN\": \"\", \"Preferential Duty_GT\": \"\", \"Preferential Duty_IN\": \"Free\", \"Preferential Duty_PK\": \"Free\", \"Preferential Duty_SA\": \"\", \"Preferential Duty_SF\": \"Free\", \"Preferential Duty_SD\": \"Free\", \"Preferential Duty_SG\": \"Free\", \"Gen Duty\": \"Free\", \"VAT\": \"18%\", \"PAL_Gen\": \"10%\", \"PAL_SG\": \"6%\", \"Cess_GEN\": \"\", \"Cess_SG\": \"\", \"Excise SPD\": \"\", \"SSCL\": \"2.5%\", \"SCL\": \"\"}'),\n",
       " Document(metadata={'seq_num': 37, 'source': '/Users/rehangagamage/Desktop/pdfplumber/jsons/ch28.json'}, page_content='{\"Prefix\": \"Other :\", \"HS Hdg Name\": \"Other inorganic acids and other\\\\ninorganic oxygen compounds of non-\\\\nmetals.\", \"HS Hdg\": \"28.11\", \"HS Code\": \"2811.29.10\", \"Description\": \"Nitrous oxide\", \"Unit\": \"kg\", \"ICL/SLSI\": \"\", \"Preferential Duty_AP\": \"\", \"Preferential Duty_AD\": \"\", \"Preferential Duty_BN\": \"\", \"Preferential Duty_GT\": \"\", \"Preferential Duty_IN\": \"Free\", \"Preferential Duty_PK\": \"Free\", \"Preferential Duty_SA\": \"\", \"Preferential Duty_SF\": \"5%\", \"Preferential Duty_SD\": \"4.5%\", \"Preferential Duty_SG\": \"10.0%\", \"Gen Duty\": \"Free\", \"VAT\": \"18%\", \"PAL_Gen\": \"10%\", \"PAL_SG\": \"6%\", \"Cess_GEN\": \"\", \"Cess_SG\": \"\", \"Excise SPD\": \"\", \"SSCL\": \"2.5%\", \"SCL\": \"\"}'),\n",
       " Document(metadata={'seq_num': 33, 'source': '/Users/rehangagamage/Desktop/pdfplumber/jsons/ch28.json'}, page_content='{\"Prefix\": \"Other inorganic acids :\", \"HS Hdg Name\": \"Other inorganic acids and other\\\\ninorganic oxygen compounds of non-\\\\nmetals.\", \"HS Hdg\": \"28.11\", \"HS Code\": \"2811.12\", \"Description\": \"Hydrogen cyanide (hydrocyanic acid)\", \"Unit\": \"kg\", \"ICL/SLSI\": \"L\", \"Preferential Duty_AP\": \"\", \"Preferential Duty_AD\": \"\", \"Preferential Duty_BN\": \"\", \"Preferential Duty_GT\": \"\", \"Preferential Duty_IN\": \"Free\", \"Preferential Duty_PK\": \"Free\", \"Preferential Duty_SA\": \"\", \"Preferential Duty_SF\": \"Free\", \"Preferential Duty_SD\": \"Free\", \"Preferential Duty_SG\": \"Free\", \"Gen Duty\": \"Free\", \"VAT\": \"18%\", \"PAL_Gen\": \"Ex\", \"PAL_SG\": \"\", \"Cess_GEN\": \"\", \"Cess_SG\": \"\", \"Excise SPD\": \"\", \"SSCL\": \"2.5%\", \"SCL\": \"\"}'),\n",
       " Document(metadata={'seq_num': 38, 'source': '/Users/rehangagamage/Desktop/pdfplumber/jsons/ch28.json'}, page_content='{\"Prefix\": \"Other :\", \"HS Hdg Name\": \"Other inorganic acids and other\\\\ninorganic oxygen compounds of non-\\\\nmetals.\", \"HS Hdg\": \"28.11\", \"HS Code\": \"2811.29.20\", \"Description\": \"Sulphur dioxide\", \"Unit\": \"kg\", \"ICL/SLSI\": \"\", \"Preferential Duty_AP\": \"\", \"Preferential Duty_AD\": \"\", \"Preferential Duty_BN\": \"\", \"Preferential Duty_GT\": \"\", \"Preferential Duty_IN\": \"Free\", \"Preferential Duty_PK\": \"Free\", \"Preferential Duty_SA\": \"\", \"Preferential Duty_SF\": \"Free\", \"Preferential Duty_SD\": \"Free\", \"Preferential Duty_SG\": \"Free\", \"Gen Duty\": \"Free\", \"VAT\": \"18%\", \"PAL_Gen\": \"Ex\", \"PAL_SG\": \"\", \"Cess_GEN\": \"\", \"Cess_SG\": \"\", \"Excise SPD\": \"\", \"SSCL\": \"2.5%\", \"SCL\": \"\"}'),\n",
       " Document(metadata={'seq_num': 34, 'source': '/Users/rehangagamage/Desktop/pdfplumber/jsons/ch28.json'}, page_content='{\"Prefix\": \"Other inorganic acids :\", \"HS Hdg Name\": \"Other inorganic acids and other\\\\ninorganic oxygen compounds of non-\\\\nmetals.\", \"HS Hdg\": \"28.11\", \"HS Code\": \"2811.19\", \"Description\": \"Other\", \"Unit\": \"kg\", \"ICL/SLSI\": \"\", \"Preferential Duty_AP\": \"\", \"Preferential Duty_AD\": \"\", \"Preferential Duty_BN\": \"\", \"Preferential Duty_GT\": \"\", \"Preferential Duty_IN\": \"Free\", \"Preferential Duty_PK\": \"Free\", \"Preferential Duty_SA\": \"\", \"Preferential Duty_SF\": \"Free\", \"Preferential Duty_SD\": \"Free\", \"Preferential Duty_SG\": \"Free\", \"Gen Duty\": \"Free\", \"VAT\": \"18%\", \"PAL_Gen\": \"10%\", \"PAL_SG\": \"6%\", \"Cess_GEN\": \"\", \"Cess_SG\": \"\", \"Excise SPD\": \"\", \"SSCL\": \"2.5%\", \"SCL\": \"\"}'),\n",
       " Document(metadata={'seq_num': 40, 'source': '/Users/rehangagamage/Desktop/pdfplumber/jsons/ch28.json'}, page_content='{\"Prefix\": \"Chlorides and chloride oxides :\", \"HS Hdg Name\": \"Halides and halide oxides of non-metals.\", \"HS Hdg\": \"28.12\", \"HS Code\": \"2812.11\", \"Description\": \"Carbonyl dichloride (Phosgene)\", \"Unit\": \"kg\", \"ICL/SLSI\": \"L\", \"Preferential Duty_AP\": \"\", \"Preferential Duty_AD\": \"\", \"Preferential Duty_BN\": \"\", \"Preferential Duty_GT\": \"\", \"Preferential Duty_IN\": \"Free\", \"Preferential Duty_PK\": \"Free\", \"Preferential Duty_SA\": \"\", \"Preferential Duty_SF\": \"Free\", \"Preferential Duty_SD\": \"Free\", \"Preferential Duty_SG\": \"Free\", \"Gen Duty\": \"Free\", \"VAT\": \"18%\", \"PAL_Gen\": \"Ex\", \"PAL_SG\": \"\", \"Cess_GEN\": \"\", \"Cess_SG\": \"\", \"Excise SPD\": \"\", \"SSCL\": \"2.5%\", \"SCL\": \"\"}'),\n",
       " Document(metadata={'seq_num': 78, 'source': '/Users/rehangagamage/Desktop/pdfplumber/jsons/ch28.json'}, page_content='{\"Prefix\": \"\", \"HS Hdg Name\": \"Hydrazine and hydroxylamine and their\\\\ninorganic salts; other inorganic bases;\\\\nother metal oxides, hydroxides and\\\\nperoxides.\", \"HS Hdg\": \"28.25\", \"HS Code\": \"2825.60\", \"Description\": \"Germanium oxides and zirconium dioxide\", \"Unit\": \"kg\", \"ICL/SLSI\": \"\", \"Preferential Duty_AP\": \"\", \"Preferential Duty_AD\": \"\", \"Preferential Duty_BN\": \"\", \"Preferential Duty_GT\": \"\", \"Preferential Duty_IN\": \"Free\", \"Preferential Duty_PK\": \"Free\", \"Preferential Duty_SA\": \"\", \"Preferential Duty_SF\": \"Free\", \"Preferential Duty_SD\": \"Free\", \"Preferential Duty_SG\": \"Free\", \"Gen Duty\": \"Free\", \"VAT\": \"18%\", \"PAL_Gen\": \"10%\", \"PAL_SG\": \"6%\", \"Cess_GEN\": \"\", \"Cess_SG\": \"\", \"Excise SPD\": \"\", \"SSCL\": \"2.5%\", \"SCL\": \"\"}'),\n",
       " Document(metadata={'seq_num': 32, 'source': '/Users/rehangagamage/Desktop/pdfplumber/jsons/ch28.json'}, page_content='{\"Prefix\": \"Other inorganic acids :\", \"HS Hdg Name\": \"Other inorganic acids and other\\\\ninorganic oxygen compounds of non-\\\\nmetals.\", \"HS Hdg\": \"28.11\", \"HS Code\": \"2811.11\", \"Description\": \"Hydrogen fluoride (hydrofluoric acid)\", \"Unit\": \"kg\", \"ICL/SLSI\": \"\", \"Preferential Duty_AP\": \"\", \"Preferential Duty_AD\": \"\", \"Preferential Duty_BN\": \"\", \"Preferential Duty_GT\": \"\", \"Preferential Duty_IN\": \"Free\", \"Preferential Duty_PK\": \"Free\", \"Preferential Duty_SA\": \"\", \"Preferential Duty_SF\": \"Free\", \"Preferential Duty_SD\": \"Free\", \"Preferential Duty_SG\": \"Free\", \"Gen Duty\": \"Free\", \"VAT\": \"18%\", \"PAL_Gen\": \"Ex\", \"PAL_SG\": \"\", \"Cess_GEN\": \"\", \"Cess_SG\": \"\", \"Excise SPD\": \"\", \"SSCL\": \"2.5%\", \"SCL\": \"\"}'),\n",
       " Document(metadata={'seq_num': 41, 'source': '/Users/rehangagamage/Desktop/pdfplumber/jsons/ch28.json'}, page_content='{\"Prefix\": \"Chlorides and chloride oxides :\", \"HS Hdg Name\": \"Halides and halide oxides of non-metals.\", \"HS Hdg\": \"28.12\", \"HS Code\": \"2812.12\", \"Description\": \"Phosphorus oxychloride\", \"Unit\": \"kg\", \"ICL/SLSI\": \"L\", \"Preferential Duty_AP\": \"\", \"Preferential Duty_AD\": \"\", \"Preferential Duty_BN\": \"\", \"Preferential Duty_GT\": \"\", \"Preferential Duty_IN\": \"Free\", \"Preferential Duty_PK\": \"Free\", \"Preferential Duty_SA\": \"\", \"Preferential Duty_SF\": \"Free\", \"Preferential Duty_SD\": \"Free\", \"Preferential Duty_SG\": \"Free\", \"Gen Duty\": \"Free\", \"VAT\": \"18%\", \"PAL_Gen\": \"Ex\", \"PAL_SG\": \"\", \"Cess_GEN\": \"\", \"Cess_SG\": \"\", \"Excise SPD\": \"\", \"SSCL\": \"2.5%\", \"SCL\": \"\"}'),\n",
       " Document(metadata={'seq_num': 44, 'source': '/Users/rehangagamage/Desktop/pdfplumber/jsons/ch28.json'}, page_content='{\"Prefix\": \"Chlorides and chloride oxides :\", \"HS Hdg Name\": \"Halides and halide oxides of non-metals.\", \"HS Hdg\": \"28.12\", \"HS Code\": \"2812.15\", \"Description\": \"Sulphur monochloride\", \"Unit\": \"kg\", \"ICL/SLSI\": \"L\", \"Preferential Duty_AP\": \"\", \"Preferential Duty_AD\": \"\", \"Preferential Duty_BN\": \"\", \"Preferential Duty_GT\": \"\", \"Preferential Duty_IN\": \"Free\", \"Preferential Duty_PK\": \"Free\", \"Preferential Duty_SA\": \"\", \"Preferential Duty_SF\": \"Free\", \"Preferential Duty_SD\": \"Free\", \"Preferential Duty_SG\": \"Free\", \"Gen Duty\": \"Free\", \"VAT\": \"18%\", \"PAL_Gen\": \"Ex\", \"PAL_SG\": \"\", \"Cess_GEN\": \"\", \"Cess_SG\": \"\", \"Excise SPD\": \"\", \"SSCL\": \"2.5%\", \"SCL\": \"\"}'),\n",
       " Document(metadata={'seq_num': 47, 'source': '/Users/rehangagamage/Desktop/pdfplumber/jsons/ch28.json'}, page_content='{\"Prefix\": \"Chlorides and chloride oxides :\", \"HS Hdg Name\": \"Halides and halide oxides of non-metals.\", \"HS Hdg\": \"28.12\", \"HS Code\": \"2812.19\", \"Description\": \"Other\", \"Unit\": \"kg\", \"ICL/SLSI\": \"\", \"Preferential Duty_AP\": \"\", \"Preferential Duty_AD\": \"\", \"Preferential Duty_BN\": \"\", \"Preferential Duty_GT\": \"\", \"Preferential Duty_IN\": \"Free\", \"Preferential Duty_PK\": \"Free\", \"Preferential Duty_SA\": \"\", \"Preferential Duty_SF\": \"Free\", \"Preferential Duty_SD\": \"Free\", \"Preferential Duty_SG\": \"Free\", \"Gen Duty\": \"Free\", \"VAT\": \"18%\", \"PAL_Gen\": \"Ex\", \"PAL_SG\": \"\", \"Cess_GEN\": \"\", \"Cess_SG\": \"\", \"Excise SPD\": \"\", \"SSCL\": \"2.5%\", \"SCL\": \"\"}'),\n",
       " Document(metadata={'seq_num': 48, 'source': '/Users/rehangagamage/Desktop/pdfplumber/jsons/ch28.json'}, page_content='{\"Prefix\": \"Chlorides and chloride oxides :\", \"HS Hdg Name\": \"Halides and halide oxides of non-metals.\", \"HS Hdg\": \"28.12\", \"HS Code\": \"2812.90\", \"Description\": \"Other\", \"Unit\": \"kg\", \"ICL/SLSI\": \"\", \"Preferential Duty_AP\": \"\", \"Preferential Duty_AD\": \"\", \"Preferential Duty_BN\": \"\", \"Preferential Duty_GT\": \"\", \"Preferential Duty_IN\": \"Free\", \"Preferential Duty_PK\": \"Free\", \"Preferential Duty_SA\": \"\", \"Preferential Duty_SF\": \"Free\", \"Preferential Duty_SD\": \"Free\", \"Preferential Duty_SG\": \"Free\", \"Gen Duty\": \"Free\", \"VAT\": \"18%\", \"PAL_Gen\": \"Ex\", \"PAL_SG\": \"\", \"Cess_GEN\": \"\", \"Cess_SG\": \"\", \"Excise SPD\": \"\", \"SSCL\": \"2.5%\", \"SCL\": \"\"}'),\n",
       " Document(metadata={'seq_num': 187, 'source': '/Users/rehangagamage/Desktop/pdfplumber/jsons/ch28.json'}, page_content='{\"Prefix\": \"\", \"HS Hdg Name\": \"Inorganic or organic compounds of\\\\nmercury, whether or not chemically\\\\ndefined, excluding amalgams.\", \"HS Hdg\": \"28.52\", \"HS Code\": \"2852.10\", \"Description\": \"Chemically defined\", \"Unit\": \"kg\", \"ICL/SLSI\": \"L\", \"Preferential Duty_AP\": \"\", \"Preferential Duty_AD\": \"\", \"Preferential Duty_BN\": \"\", \"Preferential Duty_GT\": \"\", \"Preferential Duty_IN\": \"Free\", \"Preferential Duty_PK\": \"Free\", \"Preferential Duty_SA\": \"\", \"Preferential Duty_SF\": \"Free\", \"Preferential Duty_SD\": \"Free\", \"Preferential Duty_SG\": \"Free\", \"Gen Duty\": \"Free\", \"VAT\": \"18%\", \"PAL_Gen\": \"Ex\", \"PAL_SG\": \"\", \"Cess_GEN\": \"\", \"Cess_SG\": \"\", \"Excise SPD\": \"\", \"SSCL\": \"2.5%\", \"SCL\": \"\"}'),\n",
       " Document(metadata={'seq_num': 189, 'source': '/Users/rehangagamage/Desktop/pdfplumber/jsons/ch28.json'}, page_content='{\"Prefix\": \"\", \"HS Hdg Name\": \"Phosphides, whether or not chemically\\\\ndefined, excluding ferrophosphorus;\\\\nother inorganic compounds (including\\\\ndistilled or conductivity water and water\\\\nof similar purity); liquid air (whether or\\\\nnot rare gases have been removed);\\\\ncompressed air; amalgams, other than\\\\namalgams of precious metals.\", \"HS Hdg\": \"28.53\", \"HS Code\": \"2853.10\", \"Description\": \"Cyanogen chloride (Chlorcyan)\", \"Unit\": \"kg\", \"ICL/SLSI\": \"L\", \"Preferential Duty_AP\": \"\", \"Preferential Duty_AD\": \"\", \"Preferential Duty_BN\": \"\", \"Preferential Duty_GT\": \"\", \"Preferential Duty_IN\": \"Free\", \"Preferential Duty_PK\": \"Free\", \"Preferential Duty_SA\": \"\", \"Preferential Duty_SF\": \"Free\", \"Preferential Duty_SD\": \"Free\", \"Preferential Duty_SG\": \"Free\", \"Gen Duty\": \"Free\", \"VAT\": \"18%\", \"PAL_Gen\": \"Ex\", \"PAL_SG\": \"\", \"Cess_GEN\": \"\", \"Cess_SG\": \"\", \"Excise SPD\": \"\", \"SSCL\": \"2.5%\", \"SCL\": \"\"}'),\n",
       " Document(metadata={'seq_num': 39, 'source': '/Users/rehangagamage/Desktop/pdfplumber/jsons/ch28.json'}, page_content='{\"Prefix\": \"Other :\", \"HS Hdg Name\": \"Other inorganic acids and other\\\\ninorganic oxygen compounds of non-\\\\nmetals.\", \"HS Hdg\": \"28.11\", \"HS Code\": \"2811.29.90\", \"Description\": \"Other\", \"Unit\": \"kg\", \"ICL/SLSI\": \"\", \"Preferential Duty_AP\": \"\", \"Preferential Duty_AD\": \"\", \"Preferential Duty_BN\": \"\", \"Preferential Duty_GT\": \"\", \"Preferential Duty_IN\": \"Free\", \"Preferential Duty_PK\": \"Free\", \"Preferential Duty_SA\": \"\", \"Preferential Duty_SF\": \"Free\", \"Preferential Duty_SD\": \"Free\", \"Preferential Duty_SG\": \"Free\", \"Gen Duty\": \"Free\", \"VAT\": \"18%\", \"PAL_Gen\": \"10%\", \"PAL_SG\": \"6%\", \"Cess_GEN\": \"\", \"Cess_SG\": \"\", \"Excise SPD\": \"\", \"SSCL\": \"2.5%\", \"SCL\": \"\"}'),\n",
       " Document(metadata={'seq_num': 46, 'source': '/Users/rehangagamage/Desktop/pdfplumber/jsons/ch28.json'}, page_content='{\"Prefix\": \"Chlorides and chloride oxides :\", \"HS Hdg Name\": \"Halides and halide oxides of non-metals.\", \"HS Hdg\": \"28.12\", \"HS Code\": \"2812.17\", \"Description\": \"Thionyl chloride\", \"Unit\": \"kg\", \"ICL/SLSI\": \"L\", \"Preferential Duty_AP\": \"\", \"Preferential Duty_AD\": \"\", \"Preferential Duty_BN\": \"\", \"Preferential Duty_GT\": \"\", \"Preferential Duty_IN\": \"Free\", \"Preferential Duty_PK\": \"Free\", \"Preferential Duty_SA\": \"\", \"Preferential Duty_SF\": \"Free\", \"Preferential Duty_SD\": \"Free\", \"Preferential Duty_SG\": \"Free\", \"Gen Duty\": \"Free\", \"VAT\": \"18%\", \"PAL_Gen\": \"Ex\", \"PAL_SG\": \"\", \"Cess_GEN\": \"\", \"Cess_SG\": \"\", \"Excise SPD\": \"\", \"SSCL\": \"2.5%\", \"SCL\": \"\"}'),\n",
       " Document(metadata={'seq_num': 45, 'source': '/Users/rehangagamage/Desktop/pdfplumber/jsons/ch28.json'}, page_content='{\"Prefix\": \"Chlorides and chloride oxides :\", \"HS Hdg Name\": \"Halides and halide oxides of non-metals.\", \"HS Hdg\": \"28.12\", \"HS Code\": \"2812.16\", \"Description\": \"Sulphur dichloride\", \"Unit\": \"kg\", \"ICL/SLSI\": \"L\", \"Preferential Duty_AP\": \"\", \"Preferential Duty_AD\": \"\", \"Preferential Duty_BN\": \"\", \"Preferential Duty_GT\": \"\", \"Preferential Duty_IN\": \"Free\", \"Preferential Duty_PK\": \"Free\", \"Preferential Duty_SA\": \"\", \"Preferential Duty_SF\": \"Free\", \"Preferential Duty_SD\": \"Free\", \"Preferential Duty_SG\": \"Free\", \"Gen Duty\": \"Free\", \"VAT\": \"18%\", \"PAL_Gen\": \"Ex\", \"PAL_SG\": \"\", \"Cess_GEN\": \"\", \"Cess_SG\": \"\", \"Excise SPD\": \"\", \"SSCL\": \"2.5%\", \"SCL\": \"\"}'),\n",
       " Document(metadata={'seq_num': 188, 'source': '/Users/rehangagamage/Desktop/pdfplumber/jsons/ch28.json'}, page_content='{\"Prefix\": \"\", \"HS Hdg Name\": \"Inorganic or organic compounds of\\\\nmercury, whether or not chemically\\\\ndefined, excluding amalgams.\", \"HS Hdg\": \"28.52\", \"HS Code\": \"2852.90\", \"Description\": \"Other\", \"Unit\": \"kg\", \"ICL/SLSI\": \"L\", \"Preferential Duty_AP\": \"\", \"Preferential Duty_AD\": \"\", \"Preferential Duty_BN\": \"\", \"Preferential Duty_GT\": \"\", \"Preferential Duty_IN\": \"Free\", \"Preferential Duty_PK\": \"Free\", \"Preferential Duty_SA\": \"\", \"Preferential Duty_SF\": \"Free\", \"Preferential Duty_SD\": \"Free\", \"Preferential Duty_SG\": \"Free\", \"Gen Duty\": \"Free\", \"VAT\": \"18%\", \"PAL_Gen\": \"Ex\", \"PAL_SG\": \"\", \"Cess_GEN\": \"\", \"Cess_SG\": \"\", \"Excise SPD\": \"\", \"SSCL\": \"2.5%\", \"SCL\": \"\"}'),\n",
       " Document(metadata={'seq_num': 43, 'source': '/Users/rehangagamage/Desktop/pdfplumber/jsons/ch28.json'}, page_content='{\"Prefix\": \"Chlorides and chloride oxides :\", \"HS Hdg Name\": \"Halides and halide oxides of non-metals.\", \"HS Hdg\": \"28.12\", \"HS Code\": \"2812.14\", \"Description\": \"Phosphorus pentachloride\", \"Unit\": \"kg\", \"ICL/SLSI\": \"L\", \"Preferential Duty_AP\": \"\", \"Preferential Duty_AD\": \"\", \"Preferential Duty_BN\": \"\", \"Preferential Duty_GT\": \"\", \"Preferential Duty_IN\": \"Free\", \"Preferential Duty_PK\": \"Free\", \"Preferential Duty_SA\": \"\", \"Preferential Duty_SF\": \"Free\", \"Preferential Duty_SD\": \"Free\", \"Preferential Duty_SG\": \"Free\", \"Gen Duty\": \"Free\", \"VAT\": \"18%\", \"PAL_Gen\": \"Ex\", \"PAL_SG\": \"\", \"Cess_GEN\": \"\", \"Cess_SG\": \"\", \"Excise SPD\": \"\", \"SSCL\": \"2.5%\", \"SCL\": \"\"}')]"
      ]
     },
     "execution_count": 87,
     "metadata": {},
     "output_type": "execute_result"
    }
   ],
   "source": [
    "result[\"source_documents\"]"
   ]
  },
  {
   "cell_type": "code",
   "execution_count": null,
   "metadata": {},
   "outputs": [],
   "source": []
  }
 ],
 "metadata": {
  "kernelspec": {
   "display_name": "Python 3",
   "language": "python",
   "name": "python3"
  },
  "language_info": {
   "codemirror_mode": {
    "name": "ipython",
    "version": 3
   },
   "file_extension": ".py",
   "mimetype": "text/x-python",
   "name": "python",
   "nbconvert_exporter": "python",
   "pygments_lexer": "ipython3",
   "version": "3.11.9"
  }
 },
 "nbformat": 4,
 "nbformat_minor": 2
}
